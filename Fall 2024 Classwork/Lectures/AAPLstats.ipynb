{
 "cells": [
  {
   "cell_type": "code",
   "id": "initial_id",
   "metadata": {
    "collapsed": true,
    "ExecuteTime": {
     "end_time": "2024-09-18T17:04:46.071052Z",
     "start_time": "2024-09-18T17:04:46.068346Z"
    }
   },
   "source": [
    "import pandas as pd\n",
    "from scipy.stats import ttest_1samp, ttest_ind"
   ],
   "outputs": [],
   "execution_count": 31
  },
  {
   "metadata": {
    "ExecuteTime": {
     "end_time": "2024-09-18T17:04:46.099314Z",
     "start_time": "2024-09-18T17:04:46.084070Z"
    }
   },
   "cell_type": "code",
   "source": [
    "# import the csv\n",
    "data = pd.read_csv('aapl_2006_2012.csv')\n",
    "\n",
    "# calculate the daily return of the stock\n",
    "data['daily_return'] = data['Adj. Close'].pct_change()\n",
    "data = data.dropna()\n",
    "\n",
    "data"
   ],
   "id": "3e1997b8f1c3e223",
   "outputs": [
    {
     "data": {
      "text/plain": [
       "            Date    Open     High      Low   Close      Volume  Ex-Dividend  \\\n",
       "1     2006-10-03   74.45   74.950   73.190   74.07  28239600.0          0.0   \n",
       "2     2006-10-04   74.10   75.462   73.160   75.38  29610100.0          0.0   \n",
       "3     2006-10-05   74.53   76.160   74.130   74.83  24424400.0          0.0   \n",
       "4     2006-10-06   74.42   75.040   73.810   74.22  16677100.0          0.0   \n",
       "5     2006-10-09   73.80   75.080   73.530   74.63  15650800.0          0.0   \n",
       "...          ...     ...      ...      ...     ...         ...          ...   \n",
       "1318  2011-12-23  399.69  403.590  399.495  403.33   9621400.0          0.0   \n",
       "1319  2011-12-27  403.10  409.090  403.020  406.53   9467000.0          0.0   \n",
       "1320  2011-12-28  406.89  408.250  401.340  402.64   8166500.0          0.0   \n",
       "1321  2011-12-29  403.40  405.650  400.510  405.12   7713500.0          0.0   \n",
       "1322  2011-12-30  403.51  406.280  403.490  405.00   6416500.0          0.0   \n",
       "\n",
       "      Split Ratio  Adj. Open  Adj. High   Adj. Low  Adj. Close  Adj. Volume  \\\n",
       "1             1.0   9.567863   9.632120   9.405935    9.519027  197677200.0   \n",
       "2             1.0   9.522883   9.697919   9.402080    9.687381  207270700.0   \n",
       "3             1.0   9.578144   9.787621   9.526738    9.616698  170970800.0   \n",
       "4             1.0   9.564007   9.643686   9.485614    9.538304  116739700.0   \n",
       "5             1.0   9.484329   9.648826   9.449630    9.590995  109555600.0   \n",
       "...           ...        ...        ...        ...         ...          ...   \n",
       "1318          1.0  51.365736  51.866940  51.340676   51.833526   67349800.0   \n",
       "1319          1.0  51.803968  52.573767  51.793687   52.244771   66269000.0   \n",
       "1320          1.0  52.291036  52.465815  51.577784   51.744852   57165500.0   \n",
       "1321          1.0  51.842522  52.131679  51.471117   52.063566   53994500.0   \n",
       "1322          1.0  51.856659  52.212643  51.854089   52.048145   44915500.0   \n",
       "\n",
       "      daily_return  \n",
       "1        -0.010553  \n",
       "2         0.017686  \n",
       "3        -0.007296  \n",
       "4        -0.008152  \n",
       "5         0.005524  \n",
       "...            ...  \n",
       "1318      0.011993  \n",
       "1319      0.007934  \n",
       "1320     -0.009569  \n",
       "1321      0.006159  \n",
       "1322     -0.000296  \n",
       "\n",
       "[1322 rows x 14 columns]"
      ],
      "text/html": [
       "<div>\n",
       "<style scoped>\n",
       "    .dataframe tbody tr th:only-of-type {\n",
       "        vertical-align: middle;\n",
       "    }\n",
       "\n",
       "    .dataframe tbody tr th {\n",
       "        vertical-align: top;\n",
       "    }\n",
       "\n",
       "    .dataframe thead th {\n",
       "        text-align: right;\n",
       "    }\n",
       "</style>\n",
       "<table border=\"1\" class=\"dataframe\">\n",
       "  <thead>\n",
       "    <tr style=\"text-align: right;\">\n",
       "      <th></th>\n",
       "      <th>Date</th>\n",
       "      <th>Open</th>\n",
       "      <th>High</th>\n",
       "      <th>Low</th>\n",
       "      <th>Close</th>\n",
       "      <th>Volume</th>\n",
       "      <th>Ex-Dividend</th>\n",
       "      <th>Split Ratio</th>\n",
       "      <th>Adj. Open</th>\n",
       "      <th>Adj. High</th>\n",
       "      <th>Adj. Low</th>\n",
       "      <th>Adj. Close</th>\n",
       "      <th>Adj. Volume</th>\n",
       "      <th>daily_return</th>\n",
       "    </tr>\n",
       "  </thead>\n",
       "  <tbody>\n",
       "    <tr>\n",
       "      <th>1</th>\n",
       "      <td>2006-10-03</td>\n",
       "      <td>74.45</td>\n",
       "      <td>74.950</td>\n",
       "      <td>73.190</td>\n",
       "      <td>74.07</td>\n",
       "      <td>28239600.0</td>\n",
       "      <td>0.0</td>\n",
       "      <td>1.0</td>\n",
       "      <td>9.567863</td>\n",
       "      <td>9.632120</td>\n",
       "      <td>9.405935</td>\n",
       "      <td>9.519027</td>\n",
       "      <td>197677200.0</td>\n",
       "      <td>-0.010553</td>\n",
       "    </tr>\n",
       "    <tr>\n",
       "      <th>2</th>\n",
       "      <td>2006-10-04</td>\n",
       "      <td>74.10</td>\n",
       "      <td>75.462</td>\n",
       "      <td>73.160</td>\n",
       "      <td>75.38</td>\n",
       "      <td>29610100.0</td>\n",
       "      <td>0.0</td>\n",
       "      <td>1.0</td>\n",
       "      <td>9.522883</td>\n",
       "      <td>9.697919</td>\n",
       "      <td>9.402080</td>\n",
       "      <td>9.687381</td>\n",
       "      <td>207270700.0</td>\n",
       "      <td>0.017686</td>\n",
       "    </tr>\n",
       "    <tr>\n",
       "      <th>3</th>\n",
       "      <td>2006-10-05</td>\n",
       "      <td>74.53</td>\n",
       "      <td>76.160</td>\n",
       "      <td>74.130</td>\n",
       "      <td>74.83</td>\n",
       "      <td>24424400.0</td>\n",
       "      <td>0.0</td>\n",
       "      <td>1.0</td>\n",
       "      <td>9.578144</td>\n",
       "      <td>9.787621</td>\n",
       "      <td>9.526738</td>\n",
       "      <td>9.616698</td>\n",
       "      <td>170970800.0</td>\n",
       "      <td>-0.007296</td>\n",
       "    </tr>\n",
       "    <tr>\n",
       "      <th>4</th>\n",
       "      <td>2006-10-06</td>\n",
       "      <td>74.42</td>\n",
       "      <td>75.040</td>\n",
       "      <td>73.810</td>\n",
       "      <td>74.22</td>\n",
       "      <td>16677100.0</td>\n",
       "      <td>0.0</td>\n",
       "      <td>1.0</td>\n",
       "      <td>9.564007</td>\n",
       "      <td>9.643686</td>\n",
       "      <td>9.485614</td>\n",
       "      <td>9.538304</td>\n",
       "      <td>116739700.0</td>\n",
       "      <td>-0.008152</td>\n",
       "    </tr>\n",
       "    <tr>\n",
       "      <th>5</th>\n",
       "      <td>2006-10-09</td>\n",
       "      <td>73.80</td>\n",
       "      <td>75.080</td>\n",
       "      <td>73.530</td>\n",
       "      <td>74.63</td>\n",
       "      <td>15650800.0</td>\n",
       "      <td>0.0</td>\n",
       "      <td>1.0</td>\n",
       "      <td>9.484329</td>\n",
       "      <td>9.648826</td>\n",
       "      <td>9.449630</td>\n",
       "      <td>9.590995</td>\n",
       "      <td>109555600.0</td>\n",
       "      <td>0.005524</td>\n",
       "    </tr>\n",
       "    <tr>\n",
       "      <th>...</th>\n",
       "      <td>...</td>\n",
       "      <td>...</td>\n",
       "      <td>...</td>\n",
       "      <td>...</td>\n",
       "      <td>...</td>\n",
       "      <td>...</td>\n",
       "      <td>...</td>\n",
       "      <td>...</td>\n",
       "      <td>...</td>\n",
       "      <td>...</td>\n",
       "      <td>...</td>\n",
       "      <td>...</td>\n",
       "      <td>...</td>\n",
       "      <td>...</td>\n",
       "    </tr>\n",
       "    <tr>\n",
       "      <th>1318</th>\n",
       "      <td>2011-12-23</td>\n",
       "      <td>399.69</td>\n",
       "      <td>403.590</td>\n",
       "      <td>399.495</td>\n",
       "      <td>403.33</td>\n",
       "      <td>9621400.0</td>\n",
       "      <td>0.0</td>\n",
       "      <td>1.0</td>\n",
       "      <td>51.365736</td>\n",
       "      <td>51.866940</td>\n",
       "      <td>51.340676</td>\n",
       "      <td>51.833526</td>\n",
       "      <td>67349800.0</td>\n",
       "      <td>0.011993</td>\n",
       "    </tr>\n",
       "    <tr>\n",
       "      <th>1319</th>\n",
       "      <td>2011-12-27</td>\n",
       "      <td>403.10</td>\n",
       "      <td>409.090</td>\n",
       "      <td>403.020</td>\n",
       "      <td>406.53</td>\n",
       "      <td>9467000.0</td>\n",
       "      <td>0.0</td>\n",
       "      <td>1.0</td>\n",
       "      <td>51.803968</td>\n",
       "      <td>52.573767</td>\n",
       "      <td>51.793687</td>\n",
       "      <td>52.244771</td>\n",
       "      <td>66269000.0</td>\n",
       "      <td>0.007934</td>\n",
       "    </tr>\n",
       "    <tr>\n",
       "      <th>1320</th>\n",
       "      <td>2011-12-28</td>\n",
       "      <td>406.89</td>\n",
       "      <td>408.250</td>\n",
       "      <td>401.340</td>\n",
       "      <td>402.64</td>\n",
       "      <td>8166500.0</td>\n",
       "      <td>0.0</td>\n",
       "      <td>1.0</td>\n",
       "      <td>52.291036</td>\n",
       "      <td>52.465815</td>\n",
       "      <td>51.577784</td>\n",
       "      <td>51.744852</td>\n",
       "      <td>57165500.0</td>\n",
       "      <td>-0.009569</td>\n",
       "    </tr>\n",
       "    <tr>\n",
       "      <th>1321</th>\n",
       "      <td>2011-12-29</td>\n",
       "      <td>403.40</td>\n",
       "      <td>405.650</td>\n",
       "      <td>400.510</td>\n",
       "      <td>405.12</td>\n",
       "      <td>7713500.0</td>\n",
       "      <td>0.0</td>\n",
       "      <td>1.0</td>\n",
       "      <td>51.842522</td>\n",
       "      <td>52.131679</td>\n",
       "      <td>51.471117</td>\n",
       "      <td>52.063566</td>\n",
       "      <td>53994500.0</td>\n",
       "      <td>0.006159</td>\n",
       "    </tr>\n",
       "    <tr>\n",
       "      <th>1322</th>\n",
       "      <td>2011-12-30</td>\n",
       "      <td>403.51</td>\n",
       "      <td>406.280</td>\n",
       "      <td>403.490</td>\n",
       "      <td>405.00</td>\n",
       "      <td>6416500.0</td>\n",
       "      <td>0.0</td>\n",
       "      <td>1.0</td>\n",
       "      <td>51.856659</td>\n",
       "      <td>52.212643</td>\n",
       "      <td>51.854089</td>\n",
       "      <td>52.048145</td>\n",
       "      <td>44915500.0</td>\n",
       "      <td>-0.000296</td>\n",
       "    </tr>\n",
       "  </tbody>\n",
       "</table>\n",
       "<p>1322 rows × 14 columns</p>\n",
       "</div>"
      ]
     },
     "execution_count": 32,
     "metadata": {},
     "output_type": "execute_result"
    }
   ],
   "execution_count": 32
  },
  {
   "metadata": {
    "ExecuteTime": {
     "end_time": "2024-09-18T17:04:46.129258Z",
     "start_time": "2024-09-18T17:04:46.126191Z"
    }
   },
   "cell_type": "code",
   "source": [
    "# using the t test, test the hypothesis that the mean daily stock returns of AAPL is statistically significantly different from 0%, 1%, 0.1%, 0.001%\n",
    "\n",
    "# 0%\n",
    "ttest_1samp(data['daily_return'], 0)"
   ],
   "id": "7e67643d73f050b6",
   "outputs": [
    {
     "data": {
      "text/plain": [
       "TtestResult(statistic=2.3738663749167386, pvalue=0.01774521695714535, df=1321)"
      ]
     },
     "execution_count": 33,
     "metadata": {},
     "output_type": "execute_result"
    }
   ],
   "execution_count": 33
  },
  {
   "metadata": {
    "ExecuteTime": {
     "end_time": "2024-09-18T17:04:46.167682Z",
     "start_time": "2024-09-18T17:04:46.158894Z"
    }
   },
   "cell_type": "code",
   "source": [
    "# 1%\n",
    "ttest_1samp(data['daily_return'], 0.01)"
   ],
   "id": "92de6a67496c4d9",
   "outputs": [
    {
     "data": {
      "text/plain": [
       "TtestResult(statistic=-12.779840914878765, pvalue=2.396423197715538e-35, df=1321)"
      ]
     },
     "execution_count": 34,
     "metadata": {},
     "output_type": "execute_result"
    }
   ],
   "execution_count": 34
  },
  {
   "metadata": {
    "ExecuteTime": {
     "end_time": "2024-09-18T17:04:46.188497Z",
     "start_time": "2024-09-18T17:04:46.183189Z"
    }
   },
   "cell_type": "code",
   "source": [
    "# 0.1%\n",
    "ttest_1samp(data['daily_return'], 0.001)"
   ],
   "id": "cbd41c1dfdfcf11",
   "outputs": [
    {
     "data": {
      "text/plain": [
       "TtestResult(statistic=0.8584956459371881, pvalue=0.3907745753924793, df=1321)"
      ]
     },
     "execution_count": 35,
     "metadata": {},
     "output_type": "execute_result"
    }
   ],
   "execution_count": 35
  },
  {
   "metadata": {
    "ExecuteTime": {
     "end_time": "2024-09-18T17:04:46.210766Z",
     "start_time": "2024-09-18T17:04:46.207429Z"
    }
   },
   "cell_type": "code",
   "source": [
    "# 0.001%\n",
    "ttest_1samp(data['daily_return'], 0.00001)"
   ],
   "id": "8ec9b16b15d77821",
   "outputs": [
    {
     "data": {
      "text/plain": [
       "TtestResult(statistic=2.3587126676269428, pvalue=0.018483407859519317, df=1321)"
      ]
     },
     "execution_count": 36,
     "metadata": {},
     "output_type": "execute_result"
    }
   ],
   "execution_count": 36
  },
  {
   "metadata": {
    "ExecuteTime": {
     "end_time": "2024-09-18T17:04:46.373467Z",
     "start_time": "2024-09-18T17:04:46.367472Z"
    }
   },
   "cell_type": "code",
   "source": [
    "# add return using open prices\n",
    "data['open_return'] = data['Open'].pct_change()\n",
    "data = data.dropna()\n",
    "\n",
    "# do a two sample ttest of the daily return and open return\n",
    "ttest_ind(data['daily_return'], data['open_return'])"
   ],
   "id": "93045fb6760816f1",
   "outputs": [
    {
     "data": {
      "text/plain": [
       "TtestResult(statistic=-0.035929112107760466, pvalue=0.9713415990697348, df=2640.0)"
      ]
     },
     "execution_count": 37,
     "metadata": {},
     "output_type": "execute_result"
    }
   ],
   "execution_count": 37
  },
  {
   "metadata": {
    "ExecuteTime": {
     "end_time": "2024-09-18T17:04:46.403081Z",
     "start_time": "2024-09-18T17:04:46.401618Z"
    }
   },
   "cell_type": "code",
   "source": "",
   "id": "35ffe35587f30c63",
   "outputs": [],
   "execution_count": null
  }
 ],
 "metadata": {
  "kernelspec": {
   "display_name": "Python 3",
   "language": "python",
   "name": "python3"
  },
  "language_info": {
   "codemirror_mode": {
    "name": "ipython",
    "version": 2
   },
   "file_extension": ".py",
   "mimetype": "text/x-python",
   "name": "python",
   "nbconvert_exporter": "python",
   "pygments_lexer": "ipython2",
   "version": "2.7.6"
  }
 },
 "nbformat": 4,
 "nbformat_minor": 5
}
