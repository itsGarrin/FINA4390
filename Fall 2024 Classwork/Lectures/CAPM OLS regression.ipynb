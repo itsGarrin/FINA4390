{
 "cells": [
  {
   "cell_type": "code",
   "id": "initial_id",
   "metadata": {
    "collapsed": true,
    "ExecuteTime": {
     "end_time": "2024-09-25T16:13:44.517318Z",
     "start_time": "2024-09-25T16:13:44.511336Z"
    }
   },
   "source": [
    "import yfinance as yf\n",
    "from pandas_datareader import data as pdr\n",
    "import pandas as pd\n",
    "import statsmodels.api as sm\n",
    "from statsmodels.stats.outliers_influence import variance_inflation_factor"
   ],
   "outputs": [],
   "execution_count": 24
  },
  {
   "metadata": {
    "ExecuteTime": {
     "end_time": "2024-09-25T16:13:44.566661Z",
     "start_time": "2024-09-25T16:13:44.525434Z"
    }
   },
   "cell_type": "code",
   "source": [
    "start_date = '2013-01-01'\n",
    "end_date = '2023-01-01'\n",
    "\n",
    "aapl = yf.download('AAPL', start=start_date, end=end_date, interval='1mo')\n",
    "sp500 = yf.download('^GSPC', start=start_date, end=end_date, interval='1mo')"
   ],
   "id": "dd8bbe6123a7348f",
   "outputs": [
    {
     "name": "stderr",
     "output_type": "stream",
     "text": [
      "[*********************100%***********************]  1 of 1 completed\n",
      "[*********************100%***********************]  1 of 1 completed\n"
     ]
    }
   ],
   "execution_count": 25
  },
  {
   "metadata": {},
   "cell_type": "markdown",
   "source": "",
   "id": "f5403120ee95cda9"
  },
  {
   "metadata": {
    "ExecuteTime": {
     "end_time": "2024-09-25T16:13:44.585735Z",
     "start_time": "2024-09-25T16:13:44.579541Z"
    }
   },
   "cell_type": "code",
   "source": [
    "# Combine monthly adj closes in one dataframe and calculate monthly returns\n",
    "\n",
    "aapl_returns = aapl['Adj Close'].pct_change()\n",
    "sp500_returns = sp500['Adj Close'].pct_change()\n",
    "\n",
    "# Drop NaN values\n",
    "aapl_returns.dropna(inplace=True)\n",
    "sp500_returns.dropna(inplace=True)\n",
    "\n",
    "merged_data = pd.concat([aapl_returns, sp500_returns], axis=1)\n",
    "merged_data.columns = ['AAPL', 'SP500']\n",
    "\n",
    "merged_data"
   ],
   "id": "3d88bd81e0cb8029",
   "outputs": [
    {
     "data": {
      "text/plain": [
       "                AAPL     SP500\n",
       "Date                          \n",
       "2013-02-01 -0.030934  0.011061\n",
       "2013-03-01  0.008700  0.035988\n",
       "2013-04-01  0.000271  0.018086\n",
       "2013-05-01  0.015696  0.020763\n",
       "2013-06-01 -0.112457 -0.014999\n",
       "...              ...       ...\n",
       "2022-08-01 -0.032552 -0.042440\n",
       "2022-09-01 -0.119756 -0.093396\n",
       "2022-10-01  0.109551  0.079863\n",
       "2022-11-01 -0.034629  0.053753\n",
       "2022-12-01 -0.120816 -0.058971\n",
       "\n",
       "[119 rows x 2 columns]"
      ],
      "text/html": [
       "<div>\n",
       "<style scoped>\n",
       "    .dataframe tbody tr th:only-of-type {\n",
       "        vertical-align: middle;\n",
       "    }\n",
       "\n",
       "    .dataframe tbody tr th {\n",
       "        vertical-align: top;\n",
       "    }\n",
       "\n",
       "    .dataframe thead th {\n",
       "        text-align: right;\n",
       "    }\n",
       "</style>\n",
       "<table border=\"1\" class=\"dataframe\">\n",
       "  <thead>\n",
       "    <tr style=\"text-align: right;\">\n",
       "      <th></th>\n",
       "      <th>AAPL</th>\n",
       "      <th>SP500</th>\n",
       "    </tr>\n",
       "    <tr>\n",
       "      <th>Date</th>\n",
       "      <th></th>\n",
       "      <th></th>\n",
       "    </tr>\n",
       "  </thead>\n",
       "  <tbody>\n",
       "    <tr>\n",
       "      <th>2013-02-01</th>\n",
       "      <td>-0.030934</td>\n",
       "      <td>0.011061</td>\n",
       "    </tr>\n",
       "    <tr>\n",
       "      <th>2013-03-01</th>\n",
       "      <td>0.008700</td>\n",
       "      <td>0.035988</td>\n",
       "    </tr>\n",
       "    <tr>\n",
       "      <th>2013-04-01</th>\n",
       "      <td>0.000271</td>\n",
       "      <td>0.018086</td>\n",
       "    </tr>\n",
       "    <tr>\n",
       "      <th>2013-05-01</th>\n",
       "      <td>0.015696</td>\n",
       "      <td>0.020763</td>\n",
       "    </tr>\n",
       "    <tr>\n",
       "      <th>2013-06-01</th>\n",
       "      <td>-0.112457</td>\n",
       "      <td>-0.014999</td>\n",
       "    </tr>\n",
       "    <tr>\n",
       "      <th>...</th>\n",
       "      <td>...</td>\n",
       "      <td>...</td>\n",
       "    </tr>\n",
       "    <tr>\n",
       "      <th>2022-08-01</th>\n",
       "      <td>-0.032552</td>\n",
       "      <td>-0.042440</td>\n",
       "    </tr>\n",
       "    <tr>\n",
       "      <th>2022-09-01</th>\n",
       "      <td>-0.119756</td>\n",
       "      <td>-0.093396</td>\n",
       "    </tr>\n",
       "    <tr>\n",
       "      <th>2022-10-01</th>\n",
       "      <td>0.109551</td>\n",
       "      <td>0.079863</td>\n",
       "    </tr>\n",
       "    <tr>\n",
       "      <th>2022-11-01</th>\n",
       "      <td>-0.034629</td>\n",
       "      <td>0.053753</td>\n",
       "    </tr>\n",
       "    <tr>\n",
       "      <th>2022-12-01</th>\n",
       "      <td>-0.120816</td>\n",
       "      <td>-0.058971</td>\n",
       "    </tr>\n",
       "  </tbody>\n",
       "</table>\n",
       "<p>119 rows × 2 columns</p>\n",
       "</div>"
      ]
     },
     "execution_count": 26,
     "metadata": {},
     "output_type": "execute_result"
    }
   ],
   "execution_count": 26
  },
  {
   "metadata": {
    "ExecuteTime": {
     "end_time": "2024-09-25T16:13:44.622734Z",
     "start_time": "2024-09-25T16:13:44.614443Z"
    }
   },
   "cell_type": "code",
   "source": [
    "# Run OLS regression\n",
    "X = merged_data['SP500']\n",
    "y = merged_data['AAPL']\n",
    "\n",
    "X = sm.add_constant(X)\n",
    "\n",
    "model = sm.OLS(y, X).fit()\n",
    "\n",
    "print(model.summary())"
   ],
   "id": "e29b765a0be9de11",
   "outputs": [
    {
     "name": "stdout",
     "output_type": "stream",
     "text": [
      "                            OLS Regression Results                            \n",
      "==============================================================================\n",
      "Dep. Variable:                   AAPL   R-squared:                       0.452\n",
      "Model:                            OLS   Adj. R-squared:                  0.447\n",
      "Method:                 Least Squares   F-statistic:                     96.45\n",
      "Date:                Wed, 25 Sep 2024   Prob (F-statistic):           5.76e-17\n",
      "Time:                        12:13:44   Log-Likelihood:                 167.45\n",
      "No. Observations:                 119   AIC:                            -330.9\n",
      "Df Residuals:                     117   BIC:                            -325.3\n",
      "Df Model:                           1                                         \n",
      "Covariance Type:            nonrobust                                         \n",
      "==============================================================================\n",
      "                 coef    std err          t      P>|t|      [0.025      0.975]\n",
      "------------------------------------------------------------------------------\n",
      "const          0.0109      0.006      1.941      0.055      -0.000       0.022\n",
      "SP500          1.2678      0.129      9.821      0.000       1.012       1.523\n",
      "==============================================================================\n",
      "Omnibus:                        5.571   Durbin-Watson:                   2.129\n",
      "Prob(Omnibus):                  0.062   Jarque-Bera (JB):                5.643\n",
      "Skew:                          -0.340   Prob(JB):                       0.0595\n",
      "Kurtosis:                       3.823   Cond. No.                         23.6\n",
      "==============================================================================\n",
      "\n",
      "Notes:\n",
      "[1] Standard Errors assume that the covariance matrix of the errors is correctly specified.\n"
     ]
    }
   ],
   "execution_count": 27
  },
  {
   "metadata": {
    "ExecuteTime": {
     "end_time": "2024-09-25T16:13:44.646140Z",
     "start_time": "2024-09-25T16:13:44.643679Z"
    }
   },
   "cell_type": "code",
   "source": "# write a program to add 10 year treasury bill yields to obtain coefficients on both market and treasuries",
   "id": "f6f1ac2686a916cf",
   "outputs": [],
   "execution_count": 28
  },
  {
   "metadata": {
    "ExecuteTime": {
     "end_time": "2024-09-25T16:13:44.685269Z",
     "start_time": "2024-09-25T16:13:44.665895Z"
    }
   },
   "cell_type": "code",
   "source": [
    "# Download 10 year treasury bill yields\n",
    "tnx = yf.download('^TNX', start=start_date, end=end_date, interval='1mo')\n",
    "\n",
    "# Merge the data to the existing dataframe\n",
    "merged_data = pd.concat([merged_data, tnx['Adj Close']], axis=1)\n",
    "merged_data.columns = ['AAPL', 'SP500', 'TNX']\n",
    "merged_data.dropna(inplace=True)\n",
    "\n",
    "merged_data\n"
   ],
   "id": "a473064c2f44d396",
   "outputs": [
    {
     "name": "stderr",
     "output_type": "stream",
     "text": [
      "[*********************100%***********************]  1 of 1 completed\n"
     ]
    },
    {
     "data": {
      "text/plain": [
       "                AAPL     SP500    TNX\n",
       "Date                                 \n",
       "2013-02-01 -0.030934  0.011061  1.888\n",
       "2013-03-01  0.008700  0.035988  1.852\n",
       "2013-04-01  0.000271  0.018086  1.675\n",
       "2013-05-01  0.015696  0.020763  2.164\n",
       "2013-06-01 -0.112457 -0.014999  2.478\n",
       "...              ...       ...    ...\n",
       "2022-08-01 -0.032552 -0.042440  3.133\n",
       "2022-09-01 -0.119756 -0.093396  3.804\n",
       "2022-10-01  0.109551  0.079863  4.077\n",
       "2022-11-01 -0.034629  0.053753  3.703\n",
       "2022-12-01 -0.120816 -0.058971  3.879\n",
       "\n",
       "[119 rows x 3 columns]"
      ],
      "text/html": [
       "<div>\n",
       "<style scoped>\n",
       "    .dataframe tbody tr th:only-of-type {\n",
       "        vertical-align: middle;\n",
       "    }\n",
       "\n",
       "    .dataframe tbody tr th {\n",
       "        vertical-align: top;\n",
       "    }\n",
       "\n",
       "    .dataframe thead th {\n",
       "        text-align: right;\n",
       "    }\n",
       "</style>\n",
       "<table border=\"1\" class=\"dataframe\">\n",
       "  <thead>\n",
       "    <tr style=\"text-align: right;\">\n",
       "      <th></th>\n",
       "      <th>AAPL</th>\n",
       "      <th>SP500</th>\n",
       "      <th>TNX</th>\n",
       "    </tr>\n",
       "    <tr>\n",
       "      <th>Date</th>\n",
       "      <th></th>\n",
       "      <th></th>\n",
       "      <th></th>\n",
       "    </tr>\n",
       "  </thead>\n",
       "  <tbody>\n",
       "    <tr>\n",
       "      <th>2013-02-01</th>\n",
       "      <td>-0.030934</td>\n",
       "      <td>0.011061</td>\n",
       "      <td>1.888</td>\n",
       "    </tr>\n",
       "    <tr>\n",
       "      <th>2013-03-01</th>\n",
       "      <td>0.008700</td>\n",
       "      <td>0.035988</td>\n",
       "      <td>1.852</td>\n",
       "    </tr>\n",
       "    <tr>\n",
       "      <th>2013-04-01</th>\n",
       "      <td>0.000271</td>\n",
       "      <td>0.018086</td>\n",
       "      <td>1.675</td>\n",
       "    </tr>\n",
       "    <tr>\n",
       "      <th>2013-05-01</th>\n",
       "      <td>0.015696</td>\n",
       "      <td>0.020763</td>\n",
       "      <td>2.164</td>\n",
       "    </tr>\n",
       "    <tr>\n",
       "      <th>2013-06-01</th>\n",
       "      <td>-0.112457</td>\n",
       "      <td>-0.014999</td>\n",
       "      <td>2.478</td>\n",
       "    </tr>\n",
       "    <tr>\n",
       "      <th>...</th>\n",
       "      <td>...</td>\n",
       "      <td>...</td>\n",
       "      <td>...</td>\n",
       "    </tr>\n",
       "    <tr>\n",
       "      <th>2022-08-01</th>\n",
       "      <td>-0.032552</td>\n",
       "      <td>-0.042440</td>\n",
       "      <td>3.133</td>\n",
       "    </tr>\n",
       "    <tr>\n",
       "      <th>2022-09-01</th>\n",
       "      <td>-0.119756</td>\n",
       "      <td>-0.093396</td>\n",
       "      <td>3.804</td>\n",
       "    </tr>\n",
       "    <tr>\n",
       "      <th>2022-10-01</th>\n",
       "      <td>0.109551</td>\n",
       "      <td>0.079863</td>\n",
       "      <td>4.077</td>\n",
       "    </tr>\n",
       "    <tr>\n",
       "      <th>2022-11-01</th>\n",
       "      <td>-0.034629</td>\n",
       "      <td>0.053753</td>\n",
       "      <td>3.703</td>\n",
       "    </tr>\n",
       "    <tr>\n",
       "      <th>2022-12-01</th>\n",
       "      <td>-0.120816</td>\n",
       "      <td>-0.058971</td>\n",
       "      <td>3.879</td>\n",
       "    </tr>\n",
       "  </tbody>\n",
       "</table>\n",
       "<p>119 rows × 3 columns</p>\n",
       "</div>"
      ]
     },
     "execution_count": 29,
     "metadata": {},
     "output_type": "execute_result"
    }
   ],
   "execution_count": 29
  },
  {
   "metadata": {
    "ExecuteTime": {
     "end_time": "2024-09-25T16:13:44.719850Z",
     "start_time": "2024-09-25T16:13:44.711938Z"
    }
   },
   "cell_type": "code",
   "source": [
    "# Run OLS regression\n",
    "X = merged_data[['SP500', 'TNX']]\n",
    "y = merged_data['AAPL']\n",
    "\n",
    "X = sm.add_constant(X)\n",
    "\n",
    "model = sm.OLS(y, X).fit()\n",
    "\n",
    "print(model.summary())"
   ],
   "id": "3402058cc2e5e3fd",
   "outputs": [
    {
     "name": "stdout",
     "output_type": "stream",
     "text": [
      "                            OLS Regression Results                            \n",
      "==============================================================================\n",
      "Dep. Variable:                   AAPL   R-squared:                       0.468\n",
      "Model:                            OLS   Adj. R-squared:                  0.459\n",
      "Method:                 Least Squares   F-statistic:                     50.98\n",
      "Date:                Wed, 25 Sep 2024   Prob (F-statistic):           1.30e-16\n",
      "Time:                        12:13:44   Log-Likelihood:                 169.20\n",
      "No. Observations:                 119   AIC:                            -332.4\n",
      "Df Residuals:                     116   BIC:                            -324.1\n",
      "Df Model:                           2                                         \n",
      "Covariance Type:            nonrobust                                         \n",
      "==============================================================================\n",
      "                 coef    std err          t      P>|t|      [0.025      0.975]\n",
      "------------------------------------------------------------------------------\n",
      "const          0.0420      0.018      2.386      0.019       0.007       0.077\n",
      "SP500          1.2363      0.129      9.594      0.000       0.981       1.492\n",
      "TNX           -0.0144      0.008     -1.864      0.065      -0.030       0.001\n",
      "==============================================================================\n",
      "Omnibus:                        4.679   Durbin-Watson:                   2.163\n",
      "Prob(Omnibus):                  0.096   Jarque-Bera (JB):                4.465\n",
      "Skew:                          -0.309   Prob(JB):                        0.107\n",
      "Kurtosis:                       3.720   Cond. No.                         58.1\n",
      "==============================================================================\n",
      "\n",
      "Notes:\n",
      "[1] Standard Errors assume that the covariance matrix of the errors is correctly specified.\n"
     ]
    }
   ],
   "execution_count": 30
  },
  {
   "metadata": {
    "ExecuteTime": {
     "end_time": "2024-09-25T16:13:44.742587Z",
     "start_time": "2024-09-25T16:13:44.738959Z"
    }
   },
   "cell_type": "code",
   "source": [
    "# Assess multicullinearity by calculating pairwise correlation between the independent variables\n",
    "correlation_matrix = merged_data.corr()\n",
    "correlation_matrix"
   ],
   "id": "41e5c397d2d65486",
   "outputs": [
    {
     "data": {
      "text/plain": [
       "           AAPL     SP500       TNX\n",
       "AAPL   1.000000  0.672199 -0.213157\n",
       "SP500  0.672199  1.000000 -0.130942\n",
       "TNX   -0.213157 -0.130942  1.000000"
      ],
      "text/html": [
       "<div>\n",
       "<style scoped>\n",
       "    .dataframe tbody tr th:only-of-type {\n",
       "        vertical-align: middle;\n",
       "    }\n",
       "\n",
       "    .dataframe tbody tr th {\n",
       "        vertical-align: top;\n",
       "    }\n",
       "\n",
       "    .dataframe thead th {\n",
       "        text-align: right;\n",
       "    }\n",
       "</style>\n",
       "<table border=\"1\" class=\"dataframe\">\n",
       "  <thead>\n",
       "    <tr style=\"text-align: right;\">\n",
       "      <th></th>\n",
       "      <th>AAPL</th>\n",
       "      <th>SP500</th>\n",
       "      <th>TNX</th>\n",
       "    </tr>\n",
       "  </thead>\n",
       "  <tbody>\n",
       "    <tr>\n",
       "      <th>AAPL</th>\n",
       "      <td>1.000000</td>\n",
       "      <td>0.672199</td>\n",
       "      <td>-0.213157</td>\n",
       "    </tr>\n",
       "    <tr>\n",
       "      <th>SP500</th>\n",
       "      <td>0.672199</td>\n",
       "      <td>1.000000</td>\n",
       "      <td>-0.130942</td>\n",
       "    </tr>\n",
       "    <tr>\n",
       "      <th>TNX</th>\n",
       "      <td>-0.213157</td>\n",
       "      <td>-0.130942</td>\n",
       "      <td>1.000000</td>\n",
       "    </tr>\n",
       "  </tbody>\n",
       "</table>\n",
       "</div>"
      ]
     },
     "execution_count": 31,
     "metadata": {},
     "output_type": "execute_result"
    }
   ],
   "execution_count": 31
  },
  {
   "metadata": {
    "ExecuteTime": {
     "end_time": "2024-09-25T16:13:44.782567Z",
     "start_time": "2024-09-25T16:13:44.777165Z"
    }
   },
   "cell_type": "code",
   "source": [
    "# Calculate and display variance inflation factors\n",
    "\n",
    "vif_data = pd.DataFrame()\n",
    "vif_data['Feature'] = X.columns\n",
    "vif_data['VIF'] = [variance_inflation_factor(X.values, i) for i in range(X.shape[1])]\n",
    "vif_data"
   ],
   "id": "3822a8239523724",
   "outputs": [
    {
     "data": {
      "text/plain": [
       "  Feature        VIF\n",
       "0   const  10.522952\n",
       "1   SP500   1.017445\n",
       "2     TNX   1.017445"
      ],
      "text/html": [
       "<div>\n",
       "<style scoped>\n",
       "    .dataframe tbody tr th:only-of-type {\n",
       "        vertical-align: middle;\n",
       "    }\n",
       "\n",
       "    .dataframe tbody tr th {\n",
       "        vertical-align: top;\n",
       "    }\n",
       "\n",
       "    .dataframe thead th {\n",
       "        text-align: right;\n",
       "    }\n",
       "</style>\n",
       "<table border=\"1\" class=\"dataframe\">\n",
       "  <thead>\n",
       "    <tr style=\"text-align: right;\">\n",
       "      <th></th>\n",
       "      <th>Feature</th>\n",
       "      <th>VIF</th>\n",
       "    </tr>\n",
       "  </thead>\n",
       "  <tbody>\n",
       "    <tr>\n",
       "      <th>0</th>\n",
       "      <td>const</td>\n",
       "      <td>10.522952</td>\n",
       "    </tr>\n",
       "    <tr>\n",
       "      <th>1</th>\n",
       "      <td>SP500</td>\n",
       "      <td>1.017445</td>\n",
       "    </tr>\n",
       "    <tr>\n",
       "      <th>2</th>\n",
       "      <td>TNX</td>\n",
       "      <td>1.017445</td>\n",
       "    </tr>\n",
       "  </tbody>\n",
       "</table>\n",
       "</div>"
      ]
     },
     "execution_count": 32,
     "metadata": {},
     "output_type": "execute_result"
    }
   ],
   "execution_count": 32
  },
  {
   "metadata": {
    "ExecuteTime": {
     "end_time": "2024-09-25T16:13:44.839917Z",
     "start_time": "2024-09-25T16:13:44.832742Z"
    }
   },
   "cell_type": "code",
   "source": [
    "# write a program to test for multicolinarity and heteroskedasticity. re-estimate the regression using robust standard errors\n",
    "\n",
    "# Re-estimate the regression using robust standard errors get_robustcov_results\n",
    "results_adjusted = model.get_robustcov_results(cov_type='HC3')\n",
    "print(results_adjusted.summary())"
   ],
   "id": "f68696fff9662c95",
   "outputs": [
    {
     "name": "stdout",
     "output_type": "stream",
     "text": [
      "                            OLS Regression Results                            \n",
      "==============================================================================\n",
      "Dep. Variable:                   AAPL   R-squared:                       0.468\n",
      "Model:                            OLS   Adj. R-squared:                  0.459\n",
      "Method:                 Least Squares   F-statistic:                     68.31\n",
      "Date:                Wed, 25 Sep 2024   Prob (F-statistic):           2.48e-20\n",
      "Time:                        12:13:44   Log-Likelihood:                 169.20\n",
      "No. Observations:                 119   AIC:                            -332.4\n",
      "Df Residuals:                     116   BIC:                            -324.1\n",
      "Df Model:                           2                                         \n",
      "Covariance Type:                  HC3                                         \n",
      "==============================================================================\n",
      "                 coef    std err          t      P>|t|      [0.025      0.975]\n",
      "------------------------------------------------------------------------------\n",
      "const          0.0420      0.019      2.201      0.030       0.004       0.080\n",
      "SP500          1.2363      0.115     10.719      0.000       1.008       1.465\n",
      "TNX           -0.0144      0.009     -1.675      0.097      -0.032       0.003\n",
      "==============================================================================\n",
      "Omnibus:                        4.679   Durbin-Watson:                   2.163\n",
      "Prob(Omnibus):                  0.096   Jarque-Bera (JB):                4.465\n",
      "Skew:                          -0.309   Prob(JB):                        0.107\n",
      "Kurtosis:                       3.720   Cond. No.                         58.1\n",
      "==============================================================================\n",
      "\n",
      "Notes:\n",
      "[1] Standard Errors are heteroscedasticity robust (HC3)\n"
     ]
    }
   ],
   "execution_count": 33
  },
  {
   "metadata": {
    "ExecuteTime": {
     "end_time": "2024-09-25T16:13:44.929527Z",
     "start_time": "2024-09-25T16:13:44.922816Z"
    }
   },
   "cell_type": "code",
   "source": [
    "# adjust results for autocorrelation\n",
    "\n",
    "results_robust = model.get_robustcov_results(cov_type='HAC', maxlags=1)\n",
    "print(results_robust.summary())"
   ],
   "id": "d3cffebd291a5a09",
   "outputs": [
    {
     "name": "stdout",
     "output_type": "stream",
     "text": [
      "                            OLS Regression Results                            \n",
      "==============================================================================\n",
      "Dep. Variable:                   AAPL   R-squared:                       0.468\n",
      "Model:                            OLS   Adj. R-squared:                  0.459\n",
      "Method:                 Least Squares   F-statistic:                     71.22\n",
      "Date:                Wed, 25 Sep 2024   Prob (F-statistic):           6.64e-21\n",
      "Time:                        12:13:44   Log-Likelihood:                 169.20\n",
      "No. Observations:                 119   AIC:                            -332.4\n",
      "Df Residuals:                     116   BIC:                            -324.1\n",
      "Df Model:                           2                                         \n",
      "Covariance Type:                  HAC                                         \n",
      "==============================================================================\n",
      "                 coef    std err          t      P>|t|      [0.025      0.975]\n",
      "------------------------------------------------------------------------------\n",
      "const          0.0420      0.018      2.306      0.023       0.006       0.078\n",
      "SP500          1.2363      0.110     11.201      0.000       1.018       1.455\n",
      "TNX           -0.0144      0.008     -1.781      0.078      -0.031       0.002\n",
      "==============================================================================\n",
      "Omnibus:                        4.679   Durbin-Watson:                   2.163\n",
      "Prob(Omnibus):                  0.096   Jarque-Bera (JB):                4.465\n",
      "Skew:                          -0.309   Prob(JB):                        0.107\n",
      "Kurtosis:                       3.720   Cond. No.                         58.1\n",
      "==============================================================================\n",
      "\n",
      "Notes:\n",
      "[1] Standard Errors are heteroscedasticity and autocorrelation robust (HAC) using 1 lags and without small sample correction\n"
     ]
    }
   ],
   "execution_count": 34
  }
 ],
 "metadata": {
  "kernelspec": {
   "display_name": "Python 3",
   "language": "python",
   "name": "python3"
  },
  "language_info": {
   "codemirror_mode": {
    "name": "ipython",
    "version": 2
   },
   "file_extension": ".py",
   "mimetype": "text/x-python",
   "name": "python",
   "nbconvert_exporter": "python",
   "pygments_lexer": "ipython2",
   "version": "2.7.6"
  }
 },
 "nbformat": 4,
 "nbformat_minor": 5
}
