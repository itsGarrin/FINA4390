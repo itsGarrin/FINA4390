{
 "cells": [
  {
   "cell_type": "code",
   "id": "initial_id",
   "metadata": {
    "collapsed": true,
    "ExecuteTime": {
     "end_time": "2024-09-13T16:18:47.528435Z",
     "start_time": "2024-09-13T16:18:46.348561Z"
    }
   },
   "source": [
    "import matplotlib.pyplot as plt\n",
    "import scipy.stats as stats\n",
    "import numpy as np"
   ],
   "outputs": [],
   "execution_count": 1
  },
  {
   "metadata": {
    "ExecuteTime": {
     "end_time": "2024-09-13T16:18:59.938518Z",
     "start_time": "2024-09-13T16:18:59.935622Z"
    }
   },
   "cell_type": "code",
   "source": [
    "x_min = 0\n",
    "x_max = 16\n",
    "\n",
    "mean = 8\n",
    "std_dev = 2"
   ],
   "id": "ddc2dc9df3f61411",
   "outputs": [],
   "execution_count": 3
  },
  {
   "metadata": {
    "ExecuteTime": {
     "end_time": "2024-09-13T16:25:17.900470Z",
     "start_time": "2024-09-13T16:25:17.893587Z"
    }
   },
   "cell_type": "code",
   "source": [
    "x = np.linspace(x_min, x_max, 100)\n",
    "y = stats.norm.cdf(x, mean, std_dev)"
   ],
   "id": "941dcbbcae1efa2b",
   "outputs": [],
   "execution_count": 8
  },
  {
   "metadata": {
    "ExecuteTime": {
     "end_time": "2024-09-13T16:25:18.137741Z",
     "start_time": "2024-09-13T16:25:18.077399Z"
    }
   },
   "cell_type": "code",
   "source": [
    "plt.plot(x, y, color='coral')\n",
    "plt.grid()"
   ],
   "id": "9ddbfb87c6e4a6d5",
   "outputs": [
    {
     "data": {
      "text/plain": [
       "<Figure size 640x480 with 1 Axes>"
      ],
      "image/png": "[encoded data removed]"
     },
     "metadata": {},
     "output_type": "display_data"
    }
   ],
   "execution_count": 9
  },
  {
   "metadata": {
    "ExecuteTime": {
     "end_time": "2024-09-13T16:43:50.549145Z",
     "start_time": "2024-09-13T16:43:50.544115Z"
    }
   },
   "cell_type": "code",
   "source": [
    "# write a program to calculate the mean and variance of x and y variables, taking values of the random variable and the probability distribution as arrays\n",
    "def mean_var(x, y):\n",
    "    mean_x = np.sum(x*y)\n",
    "    mean_y = np.sum(y)\n",
    "    var_x = np.sum((x - mean_x)**2 * y)\n",
    "    return mean_x, mean_y, var_x"
   ],
   "id": "1bdd677e13d763f8",
   "outputs": [],
   "execution_count": 13
  },
  {
   "metadata": {
    "ExecuteTime": {
     "end_time": "2024-09-13T16:43:50.758256Z",
     "start_time": "2024-09-13T16:43:50.754414Z"
    }
   },
   "cell_type": "code",
   "source": [
    "X = np.array([-2, 0, 2, 3])\n",
    "Px = np.array([0.27, 0.12, 0.26, 0.35])\n",
    "mean_x, mean_y, var_x = mean_var(X, Px)\n",
    "print(f\"Mean of x: {mean_x}\")\n",
    "print(f\"Mean of y: {mean_y}\")\n",
    "print(f\"Variance of x: {var_x}\")"
   ],
   "id": "1b81ad60a3b7401d",
   "outputs": [
    {
     "name": "stdout",
     "output_type": "stream",
     "text": [
      "Mean of x: 1.0299999999999998\n",
      "Mean of y: 1.0\n",
      "Variance of x: 4.209099999999999\n"
     ]
    }
   ],
   "execution_count": 14
  },
  {
   "metadata": {},
   "cell_type": "code",
   "outputs": [],
   "execution_count": null,
   "source": "",
   "id": "83d131a1c973e12"
  }
 ],
 "metadata": {
  "kernelspec": {
   "display_name": "Python 3",
   "language": "python",
   "name": "python3"
  },
  "language_info": {
   "codemirror_mode": {
    "name": "ipython",
    "version": 2
   },
   "file_extension": ".py",
   "mimetype": "text/x-python",
   "name": "python",
   "nbconvert_exporter": "python",
   "pygments_lexer": "ipython2",
   "version": "2.7.6"
  }
 },
 "nbformat": 4,
 "nbformat_minor": 5
}
