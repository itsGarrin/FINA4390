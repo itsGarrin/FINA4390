{
 "cells": [
  {
   "cell_type": "code",
   "id": "initial_id",
   "metadata": {
    "collapsed": true,
    "ExecuteTime": {
     "end_time": "2024-09-06T16:30:26.051960Z",
     "start_time": "2024-09-06T16:30:26.046094Z"
    }
   },
   "source": "import numpy_financial as npf",
   "outputs": [],
   "execution_count": 4
  },
  {
   "metadata": {
    "ExecuteTime": {
     "end_time": "2024-09-06T16:37:35.041428Z",
     "start_time": "2024-09-06T16:37:35.030093Z"
    }
   },
   "cell_type": "code",
   "source": [
    "annual_int_rate = 0.12\n",
    "periodicity = 4\n",
    "N = 5\n",
    "fv = 500\n",
    "pmt = 0\n",
    "rate = annual_int_rate / periodicity\n",
    "nper = N * periodicity"
   ],
   "id": "20d3924e70b8afb7",
   "outputs": [],
   "execution_count": 9
  },
  {
   "metadata": {
    "ExecuteTime": {
     "end_time": "2024-09-06T16:37:35.192933Z",
     "start_time": "2024-09-06T16:37:35.190692Z"
    }
   },
   "cell_type": "code",
   "source": [
    "pv = npf.pv(rate, nper, pmt, fv)\n",
    "print(pv)"
   ],
   "id": "9dfd3886dc98d568",
   "outputs": [
    {
     "name": "stdout",
     "output_type": "stream",
     "text": [
      "-276.83787709316726\n"
     ]
    }
   ],
   "execution_count": 10
  },
  {
   "metadata": {},
   "cell_type": "code",
   "outputs": [],
   "execution_count": null,
   "source": "",
   "id": "ed0dc55594e72f68"
  }
 ],
 "metadata": {
  "kernelspec": {
   "display_name": "Python 3",
   "language": "python",
   "name": "python3"
  },
  "language_info": {
   "codemirror_mode": {
    "name": "ipython",
    "version": 2
   },
   "file_extension": ".py",
   "mimetype": "text/x-python",
   "name": "python",
   "nbconvert_exporter": "python",
   "pygments_lexer": "ipython2",
   "version": "2.7.6"
  }
 },
 "nbformat": 4,
 "nbformat_minor": 5
}
