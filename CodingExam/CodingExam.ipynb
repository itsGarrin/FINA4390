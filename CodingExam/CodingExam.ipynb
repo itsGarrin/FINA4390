{
 "cells": [
  {
   "metadata": {},
   "cell_type": "markdown",
   "source": "# Question 1",
   "id": "f47ee52cdd5671e8"
  },
  {
   "metadata": {
    "ExecuteTime": {
     "end_time": "2024-09-10T14:40:57.681988Z",
     "start_time": "2024-09-10T14:40:57.678410Z"
    }
   },
   "cell_type": "code",
   "source": [
    "# Write a Python program called calculate_factorial that calculates the factorial of a given number.\n",
    "def calculate_factorial(n):\n",
    "    if n == 0:\n",
    "        return 1\n",
    "    elif n < 0:\n",
    "        return \"Factorial of negative numbers are not defined.\"\n",
    "    else:\n",
    "        return n * calculate_factorial(n - 1)"
   ],
   "id": "c3254c417dce8bec",
   "outputs": [],
   "execution_count": 7
  },
  {
   "metadata": {
    "ExecuteTime": {
     "end_time": "2024-09-10T14:41:05.032138Z",
     "start_time": "2024-09-10T14:41:05.029237Z"
    }
   },
   "cell_type": "code",
   "source": [
    "# Test the function\n",
    "print(calculate_factorial(5))\n",
    "print(calculate_factorial(-5))\n",
    "print(calculate_factorial(0))"
   ],
   "id": "1487eba9ff939bd9",
   "outputs": [
    {
     "name": "stdout",
     "output_type": "stream",
     "text": [
      "120\n",
      "Factorial of negative numbers are not defined.\n",
      "1\n"
     ]
    }
   ],
   "execution_count": 9
  },
  {
   "metadata": {
    "ExecuteTime": {
     "end_time": "2024-09-10T14:39:04.797558Z",
     "start_time": "2024-09-10T14:39:04.794786Z"
    }
   },
   "cell_type": "code",
   "source": [
    "# Write a function that uses the calculate_factorial function to print the factorial of a given number.\n",
    "def print_factorial(n):\n",
    "    print(calculate_factorial(n))"
   ],
   "id": "e6b9380bddaddf73",
   "outputs": [],
   "execution_count": 5
  },
  {
   "metadata": {
    "ExecuteTime": {
     "end_time": "2024-09-10T14:41:17.141537Z",
     "start_time": "2024-09-10T14:41:17.137951Z"
    }
   },
   "cell_type": "code",
   "source": [
    "# Test the function\n",
    "print_factorial(5)\n",
    "print_factorial(-5)\n",
    "print_factorial(0)"
   ],
   "id": "aa5203b4d8a43cfe",
   "outputs": [
    {
     "name": "stdout",
     "output_type": "stream",
     "text": [
      "120\n",
      "Factorial of negative numbers are not defined.\n",
      "1\n"
     ]
    }
   ],
   "execution_count": 10
  },
  {
   "metadata": {},
   "cell_type": "markdown",
   "source": "# Question 2",
   "id": "7b8699347b66819b"
  },
  {
   "metadata": {
    "ExecuteTime": {
     "end_time": "2024-09-10T14:43:30.154181Z",
     "start_time": "2024-09-10T14:43:30.150621Z"
    }
   },
   "cell_type": "code",
   "source": [
    "# Write a Python program called reverse_string_words to reverse the order of words in a string.\n",
    "def reverse_string_words(s):\n",
    "    if not s or s.isspace():\n",
    "        return \"Empty string or string with only spaces.\"\n",
    "    else:\n",
    "        return \" \".join(s.split()[::-1])"
   ],
   "id": "33be5ec6fd5fb6b2",
   "outputs": [],
   "execution_count": 14
  },
  {
   "metadata": {
    "ExecuteTime": {
     "end_time": "2024-09-10T14:43:40.152617Z",
     "start_time": "2024-09-10T14:43:40.149369Z"
    }
   },
   "cell_type": "code",
   "source": [
    "# Test the function\n",
    "print(reverse_string_words(\"Hello World\"))\n",
    "print(reverse_string_words(\"Hello World, I am here\"))\n",
    "print(reverse_string_words(\"\"))\n",
    "print(reverse_string_words(\" \"))"
   ],
   "id": "18ce7387503edc48",
   "outputs": [
    {
     "name": "stdout",
     "output_type": "stream",
     "text": [
      "World Hello\n",
      "here am I World, Hello\n",
      "Empty string or string with only spaces.\n",
      "Empty string or string with only spaces.\n"
     ]
    }
   ],
   "execution_count": 17
  },
  {
   "metadata": {
    "ExecuteTime": {
     "end_time": "2024-09-10T14:43:41.651710Z",
     "start_time": "2024-09-10T14:43:41.647990Z"
    }
   },
   "cell_type": "code",
   "source": [
    "# Write a function that uses the reverse_string_words function to print the reversed string.\n",
    "def print_reversed_string(s):\n",
    "    print(reverse_string_words(s))"
   ],
   "id": "3392be03c424df5e",
   "outputs": [],
   "execution_count": 18
  },
  {
   "metadata": {
    "ExecuteTime": {
     "end_time": "2024-09-10T14:43:45.315225Z",
     "start_time": "2024-09-10T14:43:45.312202Z"
    }
   },
   "cell_type": "code",
   "source": [
    "# Test the function\n",
    "print_reversed_string(\"Hello World\")\n",
    "print_reversed_string(\"Hello World, I am here\")\n",
    "print_reversed_string(\"\")\n",
    "print_reversed_string(\" \")"
   ],
   "id": "7661351b9d1f92e8",
   "outputs": [
    {
     "name": "stdout",
     "output_type": "stream",
     "text": [
      "World Hello\n",
      "here am I World, Hello\n",
      "Empty string or string with only spaces.\n",
      "Empty string or string with only spaces.\n"
     ]
    }
   ],
   "execution_count": 19
  },
  {
   "metadata": {},
   "cell_type": "code",
   "outputs": [],
   "execution_count": null,
   "source": "",
   "id": "29797628041ee393"
  }
 ],
 "metadata": {
  "kernelspec": {
   "display_name": "Python 3",
   "language": "python",
   "name": "python3"
  },
  "language_info": {
   "codemirror_mode": {
    "name": "ipython",
    "version": 2
   },
   "file_extension": ".py",
   "mimetype": "text/x-python",
   "name": "python",
   "nbconvert_exporter": "python",
   "pygments_lexer": "ipython2",
   "version": "2.7.6"
  }
 },
 "nbformat": 4,
 "nbformat_minor": 5
}
